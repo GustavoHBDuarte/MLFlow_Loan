{
 "cells": [
  {
   "cell_type": "code",
   "execution_count": 2,
   "metadata": {},
   "outputs": [],
   "source": [
    "import sys"
   ]
  },
  {
   "cell_type": "code",
   "execution_count": 3,
   "metadata": {},
   "outputs": [],
   "source": [
    "sys.path.insert(0, '../src/')"
   ]
  },
  {
   "cell_type": "code",
   "execution_count": 4,
   "metadata": {},
   "outputs": [],
   "source": [
    "from data.data_load import DataLoad"
   ]
  },
  {
   "cell_type": "code",
   "execution_count": 8,
   "metadata": {},
   "outputs": [
    {
     "name": "stdout",
     "output_type": "stream",
     "text": [
      "\u001b[2m2024-03-11 22:31:26\u001b[0m [\u001b[32m\u001b[1minfo     \u001b[0m] \u001b[1mStaring data loading with: train_dataset_name\u001b[0m\n",
      "\u001b[2m2024-03-11 22:31:27\u001b[0m [\u001b[32m\u001b[1minfo     \u001b[0m] \u001b[1mData loaded successfully!\u001b[0m\n"
     ]
    },
    {
     "data": {
      "text/html": [
       "<div>\n",
       "<style scoped>\n",
       "    .dataframe tbody tr th:only-of-type {\n",
       "        vertical-align: middle;\n",
       "    }\n",
       "\n",
       "    .dataframe tbody tr th {\n",
       "        vertical-align: top;\n",
       "    }\n",
       "\n",
       "    .dataframe thead th {\n",
       "        text-align: right;\n",
       "    }\n",
       "</style>\n",
       "<table border=\"1\" class=\"dataframe\">\n",
       "  <thead>\n",
       "    <tr style=\"text-align: right;\">\n",
       "      <th></th>\n",
       "      <th>target</th>\n",
       "      <th>TaxaDeUtilizacaoDeLinhasNaoGarantidas</th>\n",
       "      <th>Idade</th>\n",
       "      <th>NumeroDeVezes30-59DiasAtrasoNaoPior</th>\n",
       "      <th>TaxaDeEndividamento</th>\n",
       "      <th>RendaMensal</th>\n",
       "      <th>NumeroDeLinhasDeCreditoEEmprestimosAbertos</th>\n",
       "      <th>NumeroDeVezes90DiasAtraso</th>\n",
       "      <th>NumeroDeEmprestimosOuLinhasImobiliarias</th>\n",
       "      <th>NumeroDeVezes60-89DiasAtrasoNaoPior</th>\n",
       "      <th>NumeroDeDependentes</th>\n",
       "    </tr>\n",
       "  </thead>\n",
       "  <tbody>\n",
       "    <tr>\n",
       "      <th>0</th>\n",
       "      <td>1</td>\n",
       "      <td>0.766127</td>\n",
       "      <td>45</td>\n",
       "      <td>2</td>\n",
       "      <td>0.802982</td>\n",
       "      <td>9120.0</td>\n",
       "      <td>13</td>\n",
       "      <td>0</td>\n",
       "      <td>6</td>\n",
       "      <td>0</td>\n",
       "      <td>2</td>\n",
       "    </tr>\n",
       "    <tr>\n",
       "      <th>1</th>\n",
       "      <td>0</td>\n",
       "      <td>0.957151</td>\n",
       "      <td>40</td>\n",
       "      <td>0</td>\n",
       "      <td>0.121876</td>\n",
       "      <td>2600.0</td>\n",
       "      <td>4</td>\n",
       "      <td>0</td>\n",
       "      <td>0</td>\n",
       "      <td>0</td>\n",
       "      <td>1</td>\n",
       "    </tr>\n",
       "    <tr>\n",
       "      <th>2</th>\n",
       "      <td>0</td>\n",
       "      <td>0.65818</td>\n",
       "      <td>38</td>\n",
       "      <td>1</td>\n",
       "      <td>0.085113</td>\n",
       "      <td>3042.0</td>\n",
       "      <td>2</td>\n",
       "      <td>1</td>\n",
       "      <td>0</td>\n",
       "      <td>0</td>\n",
       "      <td>0</td>\n",
       "    </tr>\n",
       "    <tr>\n",
       "      <th>3</th>\n",
       "      <td>0</td>\n",
       "      <td>0.23381</td>\n",
       "      <td>30</td>\n",
       "      <td>0</td>\n",
       "      <td>0.03605</td>\n",
       "      <td>3300.0</td>\n",
       "      <td>5</td>\n",
       "      <td>0</td>\n",
       "      <td>0</td>\n",
       "      <td>0</td>\n",
       "      <td>0</td>\n",
       "    </tr>\n",
       "    <tr>\n",
       "      <th>4</th>\n",
       "      <td>0</td>\n",
       "      <td>0.907239</td>\n",
       "      <td>49</td>\n",
       "      <td>1</td>\n",
       "      <td>0.024926</td>\n",
       "      <td>63588.0</td>\n",
       "      <td>7</td>\n",
       "      <td>0</td>\n",
       "      <td>1</td>\n",
       "      <td>0</td>\n",
       "      <td>0</td>\n",
       "    </tr>\n",
       "  </tbody>\n",
       "</table>\n",
       "</div>"
      ],
      "text/plain": [
       "   target  ...  NumeroDeDependentes\n",
       "0       1  ...                    2\n",
       "1       0  ...                    1\n",
       "2       0  ...                    0\n",
       "3       0  ...                    0\n",
       "4       0  ...                    0\n",
       "\n",
       "[5 rows x 11 columns]"
      ]
     },
     "execution_count": 8,
     "metadata": {},
     "output_type": "execute_result"
    }
   ],
   "source": [
    "# Instantiating 'data_loader' object\n",
    "\n",
    "data_loader = DataLoad()\n",
    "\n",
    "# loading csv file as dataframe from yaml config file using 'load_data()' method \n",
    "\n",
    "df = data_loader.load_data('train_dataset_name')\n",
    "\n",
    "df.head()"
   ]
  },
  {
   "cell_type": "code",
   "execution_count": null,
   "metadata": {},
   "outputs": [],
   "source": []
  },
  {
   "cell_type": "code",
   "execution_count": 11,
   "metadata": {},
   "outputs": [
    {
     "name": "stdout",
     "output_type": "stream",
     "text": [
      "\u001b[2m2024-03-11 22:33:35\u001b[0m [\u001b[32m\u001b[1minfo     \u001b[0m] \u001b[1mStarting data shape checking\u001b[0m\n",
      "\u001b[2m2024-03-11 22:33:35\u001b[0m [\u001b[32m\u001b[1minfo     \u001b[0m] \u001b[1mData shape validation started!\u001b[0m\n",
      "\u001b[2m2024-03-11 22:33:35\u001b[0m [\u001b[32m\u001b[1minfo     \u001b[0m] \u001b[1mStarting column types validation\u001b[0m\n",
      "\u001b[2m2024-03-11 22:33:35\u001b[0m [\u001b[32m\u001b[1minfo     \u001b[0m] \u001b[1mColumn validation passed!\u001b[0m\n",
      "\u001b[2m2024-03-11 22:33:35\u001b[0m [\u001b[32m\u001b[1minfo     \u001b[0m] \u001b[1mValidation step concluded!\u001b[0m\n"
     ]
    },
    {
     "data": {
      "text/plain": [
       "True"
      ]
     },
     "execution_count": 11,
     "metadata": {},
     "output_type": "execute_result"
    }
   ],
   "source": [
    "from data.data_validation import DataValidation\n",
    "\n",
    "\n",
    "# Instantiating 'data_validator' object\n",
    "\n",
    "data_validator = DataValidation()\n",
    "\n",
    "\n",
    "# run data validation\n",
    "data_validator.run(df)"
   ]
  },
  {
   "cell_type": "code",
   "execution_count": 15,
   "metadata": {},
   "outputs": [
    {
     "name": "stdout",
     "output_type": "stream",
     "text": [
      "\u001b[2m2024-03-11 22:35:58\u001b[0m [\u001b[32m\u001b[1minfo     \u001b[0m] \u001b[1mTarget 'target' variable found in the dataframe. Performing X, y split and train/val split\u001b[0m\n",
      "\u001b[2m2024-03-11 22:35:58\u001b[0m [\u001b[32m\u001b[1minfo     \u001b[0m] \u001b[1mData split performed successfully!\u001b[0m\n"
     ]
    }
   ],
   "source": [
    "from data.data_transformation import DataTransformation\n",
    "\n",
    "\n",
    "# Instantiating 'data_transformer' object\n",
    "\n",
    "data_transformer = DataTransformation(df)\n",
    "\n",
    "\n",
    "# getting X_train, X_val, y_train, y_val splits\n",
    "X_train, X_val, y_train, y_val = data_transformer.train_test_data_split()"
   ]
  },
  {
   "cell_type": "code",
   "execution_count": null,
   "metadata": {},
   "outputs": [],
   "source": []
  },
  {
   "cell_type": "code",
   "execution_count": null,
   "metadata": {},
   "outputs": [],
   "source": []
  },
  {
   "cell_type": "code",
   "execution_count": null,
   "metadata": {},
   "outputs": [],
   "source": []
  }
 ],
 "metadata": {
  "kernelspec": {
   "display_name": "MLFlow_Loan",
   "language": "python",
   "name": "python3"
  },
  "language_info": {
   "codemirror_mode": {
    "name": "ipython",
    "version": 3
   },
   "file_extension": ".py",
   "mimetype": "text/x-python",
   "name": "python",
   "nbconvert_exporter": "python",
   "pygments_lexer": "ipython3",
   "version": "3.12.2"
  }
 },
 "nbformat": 4,
 "nbformat_minor": 2
}
