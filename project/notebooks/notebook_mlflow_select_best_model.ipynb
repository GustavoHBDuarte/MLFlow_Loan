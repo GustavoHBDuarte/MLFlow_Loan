{
 "cells": [
  {
   "cell_type": "markdown",
   "metadata": {},
   "source": [
    "# 0 - Imports"
   ]
  },
  {
   "cell_type": "code",
   "execution_count": 23,
   "metadata": {},
   "outputs": [],
   "source": [
    "import sys\n",
    "import joblib\n",
    "\n",
    "# Retornar para a pasta 'src' para poder importar os módulos criados em 'data/', 'utils/', etc\n",
    "sys.path.insert(0, '../src/')\n",
    "\n",
    "\n",
    "# import yaml consig file\n",
    "from utils.utils import load_config_file\n",
    "\n",
    "# Data load step\n",
    "from data.data_load import DataLoad \n",
    "\n",
    "# Data validation step\n",
    "from data.data_validation import DataValidation \n",
    "\n",
    "# Data transformation step\n",
    "from data.data_transformation import DataTransformation \n",
    "\n",
    "# Data preprocessing step\n",
    "from data.data_preprocessing import DataPreprocessing\n",
    "\n",
    "# pipeline\n",
    "from sklearn.pipeline import Pipeline\n",
    "\n",
    "# imputers and discretizers\n",
    "from feature_engine.imputation import MeanMedianImputer\n",
    "from feature_engine.discretisation import EqualFrequencyDiscretiser, EqualWidthDiscretiser\n",
    "\n",
    "# scaler\n",
    "from sklearn.preprocessing import StandardScaler\n",
    "\n",
    "# sklearn wrapper\n",
    "from feature_engine.wrappers import SklearnTransformerWrapper\n",
    "\n",
    "# import yaml consig file\n",
    "from utils.utils import load_config_file\n",
    "\n",
    "# Train model step\n",
    "from train.train import ModelTraining\n",
    "\n",
    "# Model validation step\n",
    "from evaluation.classifier_evaluation import ModelEvaluating\n",
    "\n",
    "\n",
    "from sklearn.linear_model import LogisticRegression"
   ]
  },
  {
   "cell_type": "code",
   "execution_count": 24,
   "metadata": {},
   "outputs": [],
   "source": [
    "# Loading yaml file\n",
    "yaml_file = load_config_file()"
   ]
  },
  {
   "cell_type": "markdown",
   "metadata": {},
   "source": [
    "# 1 - Data loading"
   ]
  },
  {
   "cell_type": "code",
   "execution_count": 25,
   "metadata": {},
   "outputs": [
    {
     "name": "stdout",
     "output_type": "stream",
     "text": [
      "\u001b[2m2024-03-24 19:46:04\u001b[0m [\u001b[32m\u001b[1minfo     \u001b[0m] \u001b[1mStaring data loading with: train_dataset_name\u001b[0m\n",
      "\u001b[2m2024-03-24 19:46:05\u001b[0m [\u001b[32m\u001b[1minfo     \u001b[0m] \u001b[1mData loaded successfully!\u001b[0m\n"
     ]
    },
    {
     "data": {
      "text/html": [
       "<div>\n",
       "<style scoped>\n",
       "    .dataframe tbody tr th:only-of-type {\n",
       "        vertical-align: middle;\n",
       "    }\n",
       "\n",
       "    .dataframe tbody tr th {\n",
       "        vertical-align: top;\n",
       "    }\n",
       "\n",
       "    .dataframe thead th {\n",
       "        text-align: right;\n",
       "    }\n",
       "</style>\n",
       "<table border=\"1\" class=\"dataframe\">\n",
       "  <thead>\n",
       "    <tr style=\"text-align: right;\">\n",
       "      <th></th>\n",
       "      <th>target</th>\n",
       "      <th>TaxaDeUtilizacaoDeLinhasNaoGarantidas</th>\n",
       "      <th>Idade</th>\n",
       "      <th>NumeroDeVezes30-59DiasAtrasoNaoPior</th>\n",
       "      <th>TaxaDeEndividamento</th>\n",
       "      <th>RendaMensal</th>\n",
       "      <th>NumeroDeLinhasDeCreditoEEmprestimosAbertos</th>\n",
       "      <th>NumeroDeVezes90DiasAtraso</th>\n",
       "      <th>NumeroDeEmprestimosOuLinhasImobiliarias</th>\n",
       "      <th>NumeroDeVezes60-89DiasAtrasoNaoPior</th>\n",
       "      <th>NumeroDeDependentes</th>\n",
       "    </tr>\n",
       "  </thead>\n",
       "  <tbody>\n",
       "    <tr>\n",
       "      <th>0</th>\n",
       "      <td>1</td>\n",
       "      <td>0.766127</td>\n",
       "      <td>45</td>\n",
       "      <td>2</td>\n",
       "      <td>0.802982</td>\n",
       "      <td>9120.0</td>\n",
       "      <td>13</td>\n",
       "      <td>0</td>\n",
       "      <td>6</td>\n",
       "      <td>0</td>\n",
       "      <td>2</td>\n",
       "    </tr>\n",
       "    <tr>\n",
       "      <th>1</th>\n",
       "      <td>0</td>\n",
       "      <td>0.957151</td>\n",
       "      <td>40</td>\n",
       "      <td>0</td>\n",
       "      <td>0.121876</td>\n",
       "      <td>2600.0</td>\n",
       "      <td>4</td>\n",
       "      <td>0</td>\n",
       "      <td>0</td>\n",
       "      <td>0</td>\n",
       "      <td>1</td>\n",
       "    </tr>\n",
       "    <tr>\n",
       "      <th>2</th>\n",
       "      <td>0</td>\n",
       "      <td>0.65818</td>\n",
       "      <td>38</td>\n",
       "      <td>1</td>\n",
       "      <td>0.085113</td>\n",
       "      <td>3042.0</td>\n",
       "      <td>2</td>\n",
       "      <td>1</td>\n",
       "      <td>0</td>\n",
       "      <td>0</td>\n",
       "      <td>0</td>\n",
       "    </tr>\n",
       "    <tr>\n",
       "      <th>3</th>\n",
       "      <td>0</td>\n",
       "      <td>0.23381</td>\n",
       "      <td>30</td>\n",
       "      <td>0</td>\n",
       "      <td>0.03605</td>\n",
       "      <td>3300.0</td>\n",
       "      <td>5</td>\n",
       "      <td>0</td>\n",
       "      <td>0</td>\n",
       "      <td>0</td>\n",
       "      <td>0</td>\n",
       "    </tr>\n",
       "    <tr>\n",
       "      <th>4</th>\n",
       "      <td>0</td>\n",
       "      <td>0.907239</td>\n",
       "      <td>49</td>\n",
       "      <td>1</td>\n",
       "      <td>0.024926</td>\n",
       "      <td>63588.0</td>\n",
       "      <td>7</td>\n",
       "      <td>0</td>\n",
       "      <td>1</td>\n",
       "      <td>0</td>\n",
       "      <td>0</td>\n",
       "    </tr>\n",
       "  </tbody>\n",
       "</table>\n",
       "</div>"
      ],
      "text/plain": [
       "   target  TaxaDeUtilizacaoDeLinhasNaoGarantidas  Idade  \\\n",
       "0       1                               0.766127     45   \n",
       "1       0                               0.957151     40   \n",
       "2       0                                0.65818     38   \n",
       "3       0                                0.23381     30   \n",
       "4       0                               0.907239     49   \n",
       "\n",
       "   NumeroDeVezes30-59DiasAtrasoNaoPior  TaxaDeEndividamento  RendaMensal  \\\n",
       "0                                    2             0.802982       9120.0   \n",
       "1                                    0             0.121876       2600.0   \n",
       "2                                    1             0.085113       3042.0   \n",
       "3                                    0              0.03605       3300.0   \n",
       "4                                    1             0.024926      63588.0   \n",
       "\n",
       "   NumeroDeLinhasDeCreditoEEmprestimosAbertos  NumeroDeVezes90DiasAtraso  \\\n",
       "0                                          13                          0   \n",
       "1                                           4                          0   \n",
       "2                                           2                          1   \n",
       "3                                           5                          0   \n",
       "4                                           7                          0   \n",
       "\n",
       "   NumeroDeEmprestimosOuLinhasImobiliarias  \\\n",
       "0                                        6   \n",
       "1                                        0   \n",
       "2                                        0   \n",
       "3                                        0   \n",
       "4                                        1   \n",
       "\n",
       "   NumeroDeVezes60-89DiasAtrasoNaoPior  NumeroDeDependentes  \n",
       "0                                    0                    2  \n",
       "1                                    0                    1  \n",
       "2                                    0                    0  \n",
       "3                                    0                    0  \n",
       "4                                    0                    0  "
      ]
     },
     "execution_count": 25,
     "metadata": {},
     "output_type": "execute_result"
    }
   ],
   "source": [
    "# Instantiating 'data_loader' object\n",
    "\n",
    "data_loader = DataLoad()\n",
    "\n",
    "# loading csv file as dataframe from yaml config file using 'load_data()' method \n",
    "\n",
    "df = data_loader.load_data('train_dataset_name')\n",
    "\n",
    "df.head()"
   ]
  },
  {
   "cell_type": "markdown",
   "metadata": {},
   "source": [
    "# 2 - Data checking"
   ]
  },
  {
   "cell_type": "code",
   "execution_count": 26,
   "metadata": {},
   "outputs": [
    {
     "name": "stdout",
     "output_type": "stream",
     "text": [
      "\u001b[2m2024-03-24 19:46:05\u001b[0m [\u001b[32m\u001b[1minfo     \u001b[0m] \u001b[1mStarting data shape checking\u001b[0m\n",
      "\u001b[2m2024-03-24 19:46:05\u001b[0m [\u001b[32m\u001b[1minfo     \u001b[0m] \u001b[1mData shape validation started!\u001b[0m\n",
      "\u001b[2m2024-03-24 19:46:05\u001b[0m [\u001b[32m\u001b[1minfo     \u001b[0m] \u001b[1mStarting column types validation\u001b[0m\n",
      "\u001b[2m2024-03-24 19:46:05\u001b[0m [\u001b[32m\u001b[1minfo     \u001b[0m] \u001b[1mColumn validation passed!\u001b[0m\n",
      "\u001b[2m2024-03-24 19:46:05\u001b[0m [\u001b[32m\u001b[1minfo     \u001b[0m] \u001b[1mValidation step concluded!\u001b[0m\n"
     ]
    },
    {
     "data": {
      "text/plain": [
       "True"
      ]
     },
     "execution_count": 26,
     "metadata": {},
     "output_type": "execute_result"
    }
   ],
   "source": [
    "# Instantiating 'data_validator' object\n",
    "\n",
    "data_validator = DataValidation()\n",
    "\n",
    "\n",
    "# run data validation\n",
    "data_validator.run(df)"
   ]
  },
  {
   "cell_type": "markdown",
   "metadata": {},
   "source": [
    "# 3 - Data transformation (split)"
   ]
  },
  {
   "cell_type": "code",
   "execution_count": 27,
   "metadata": {},
   "outputs": [
    {
     "name": "stdout",
     "output_type": "stream",
     "text": [
      "\u001b[2m2024-03-24 19:46:06\u001b[0m [\u001b[32m\u001b[1minfo     \u001b[0m] \u001b[1mTarget 'target' variable found in the dataframe. Performing X, y split and train/val split\u001b[0m\n",
      "\u001b[2m2024-03-24 19:46:06\u001b[0m [\u001b[32m\u001b[1minfo     \u001b[0m] \u001b[1mData split performed successfully!\u001b[0m\n"
     ]
    }
   ],
   "source": [
    "# Instantiating 'data_transformer' object\n",
    "\n",
    "data_transformer = DataTransformation(df)\n",
    "\n",
    "\n",
    "# getting X_train, X_val, y_train, y_val splits\n",
    "X_train, X_val, y_train, y_val = data_transformer.train_test_data_split()"
   ]
  },
  {
   "cell_type": "markdown",
   "metadata": {},
   "source": [
    "# 4 - Experimentations (MLFlow)"
   ]
  },
  {
   "cell_type": "code",
   "execution_count": 28,
   "metadata": {},
   "outputs": [],
   "source": [
    "import mlflow\n",
    "from mlflow.tracking import MlflowClient"
   ]
  },
  {
   "cell_type": "code",
   "execution_count": 34,
   "metadata": {},
   "outputs": [
    {
     "data": {
      "text/plain": [
       "<Experiment: artifact_location='mlflow-artifacts:/1', creation_time=1711251631903, experiment_id='1', last_update_time=1711251631903, lifecycle_stage='active', name='prob_loan_exp', tags={}>"
      ]
     },
     "execution_count": 34,
     "metadata": {},
     "output_type": "execute_result"
    }
   ],
   "source": [
    "# Definir o servidor do MLFlow:\n",
    "# fazer a ligação entre os códigos executados nesse notebook com a UI do MLFlow\n",
    "mlflow.set_tracking_uri(yaml_file.get('tracking_uri'))\n",
    "\n",
    "#mlflow.set_tracking_uri(\"sqlite:///mlruns.db\")\n",
    "\n",
    "# Criar um novo experimento:\n",
    "mlflow.set_experiment(yaml_file.get('experiment_name')) # definir o nome"
   ]
  },
  {
   "cell_type": "markdown",
   "metadata": {},
   "source": [
    "## 4.1 - Select best model"
   ]
  },
  {
   "cell_type": "code",
   "execution_count": 30,
   "metadata": {},
   "outputs": [],
   "source": [
    "# Código para selecionar o melhor modelo"
   ]
  },
  {
   "cell_type": "code",
   "execution_count": 40,
   "metadata": {},
   "outputs": [
    {
     "data": {
      "text/plain": [
       "'1'"
      ]
     },
     "execution_count": 40,
     "metadata": {},
     "output_type": "execute_result"
    }
   ],
   "source": [
    "# Obtendo o id do experimento utilizado no projeto\n",
    "\n",
    "current_experiment=dict(mlflow.get_experiment_by_name(yaml_file.get('experiment_name')))\n",
    "\n",
    "experiment_id=current_experiment['experiment_id']\n",
    "\n",
    "experiment_id"
   ]
  },
  {
   "cell_type": "code",
   "execution_count": 44,
   "metadata": {},
   "outputs": [
    {
     "data": {
      "text/plain": [
       "'31a6bfe14ee947629e40fb9427df8b1a'"
      ]
     },
     "execution_count": 44,
     "metadata": {},
     "output_type": "execute_result"
    }
   ],
   "source": [
    "# Obter tabela do MLFlow UI como Dataframe\n",
    "\n",
    "mlflow_runs = mlflow.search_runs(experiment_id)\n",
    "\n",
    "best_run_id = mlflow_runs.loc[mlflow_runs['metrics.CV_roc_auc'].idxmax(),'run_id']\n",
    "\n",
    "best_run_id"
   ]
  },
  {
   "cell_type": "code",
   "execution_count": null,
   "metadata": {},
   "outputs": [],
   "source": []
  },
  {
   "cell_type": "code",
   "execution_count": null,
   "metadata": {},
   "outputs": [],
   "source": []
  },
  {
   "cell_type": "markdown",
   "metadata": {},
   "source": [
    "# Rascunhos"
   ]
  },
  {
   "cell_type": "code",
   "execution_count": 21,
   "metadata": {},
   "outputs": [
    {
     "data": {
      "text/plain": [
       "{'artifact_location': 'mlflow-artifacts:/1',\n",
       " 'creation_time': 1711210130178,\n",
       " 'experiment_id': '1',\n",
       " 'last_update_time': 1711212335290,\n",
       " 'lifecycle_stage': 'deleted',\n",
       " 'name': 'prob_loan',\n",
       " 'tags': {}}"
      ]
     },
     "execution_count": 21,
     "metadata": {},
     "output_type": "execute_result"
    }
   ],
   "source": [
    "# Obtendo o id do experimento\n",
    "\n",
    "experiment_name = \"prob_loan\"\n",
    "current_experiment=dict(mlflow.get_experiment_by_name(experiment_name))\n",
    "experiment_id=current_experiment['experiment_id']\n",
    "current_experiment"
   ]
  },
  {
   "cell_type": "code",
   "execution_count": null,
   "metadata": {},
   "outputs": [],
   "source": [
    "# Deletar experimento\n",
    "\n",
    "import mlflow\n",
    "mlflow.delete_experiment(experiment_id=1)"
   ]
  },
  {
   "cell_type": "code",
   "execution_count": 19,
   "metadata": {},
   "outputs": [
    {
     "data": {
      "text/plain": [
       "[<Experiment: artifact_location='mlflow-artifacts:/1', creation_time=1711251631903, experiment_id='1', last_update_time=1711251631903, lifecycle_stage='active', name='prob_loan_exp', tags={}>,\n",
       " <Experiment: artifact_location='mlflow-artifacts:/0', creation_time=1711250708036, experiment_id='0', last_update_time=1711250708036, lifecycle_stage='active', name='Default', tags={}>]"
      ]
     },
     "execution_count": 19,
     "metadata": {},
     "output_type": "execute_result"
    }
   ],
   "source": [
    "from mlflow.tracking import MlflowClient\n",
    "client = MlflowClient()\n",
    "all_experiments = client.search_experiments()\n",
    "\n",
    "all_experiments"
   ]
  },
  {
   "cell_type": "code",
   "execution_count": 14,
   "metadata": {},
   "outputs": [],
   "source": [
    "import mlflow\n",
    "logged_model = 'runs:/cab6bf40fbd04598b853dcdfc3a70580/lr_model'\n",
    "\n",
    "# Load model as a PyFuncModel.\n",
    "loaded_model = mlflow.pyfunc.load_model(logged_model)"
   ]
  },
  {
   "cell_type": "code",
   "execution_count": 15,
   "metadata": {},
   "outputs": [
    {
     "data": {
      "text/plain": [
       "mlflow.pyfunc.loaded_model:\n",
       "  artifact_path: lr_model\n",
       "  flavor: mlflow.sklearn\n",
       "  run_id: cab6bf40fbd04598b853dcdfc3a70580"
      ]
     },
     "execution_count": 15,
     "metadata": {},
     "output_type": "execute_result"
    }
   ],
   "source": [
    "loaded_model"
   ]
  },
  {
   "cell_type": "code",
   "execution_count": null,
   "metadata": {},
   "outputs": [],
   "source": []
  },
  {
   "cell_type": "code",
   "execution_count": 23,
   "metadata": {},
   "outputs": [
    {
     "data": {
      "text/html": [
       "<div>\n",
       "<style scoped>\n",
       "    .dataframe tbody tr th:only-of-type {\n",
       "        vertical-align: middle;\n",
       "    }\n",
       "\n",
       "    .dataframe tbody tr th {\n",
       "        vertical-align: top;\n",
       "    }\n",
       "\n",
       "    .dataframe thead th {\n",
       "        text-align: right;\n",
       "    }\n",
       "</style>\n",
       "<table border=\"1\" class=\"dataframe\">\n",
       "  <thead>\n",
       "    <tr style=\"text-align: right;\">\n",
       "      <th></th>\n",
       "      <th>run_id</th>\n",
       "      <th>experiment_id</th>\n",
       "      <th>status</th>\n",
       "      <th>artifact_uri</th>\n",
       "      <th>start_time</th>\n",
       "      <th>end_time</th>\n",
       "      <th>metrics.Val_roc_auc</th>\n",
       "      <th>metrics.CV_roc_auc</th>\n",
       "      <th>metrics.true_positives</th>\n",
       "      <th>metrics.log_loss</th>\n",
       "      <th>...</th>\n",
       "      <th>params.solver</th>\n",
       "      <th>params.max_iter</th>\n",
       "      <th>params.warm_start</th>\n",
       "      <th>tags.mlflow.runName</th>\n",
       "      <th>tags.mlflow.log-model.history</th>\n",
       "      <th>tags.mlflow.user</th>\n",
       "      <th>tags.mlflow.datasets</th>\n",
       "      <th>tags.model_name</th>\n",
       "      <th>tags.mlflow.source.name</th>\n",
       "      <th>tags.mlflow.source.type</th>\n",
       "    </tr>\n",
       "  </thead>\n",
       "  <tbody>\n",
       "    <tr>\n",
       "      <th>0</th>\n",
       "      <td>11e3062b60574348ad33716682e13ae2</td>\n",
       "      <td>1</td>\n",
       "      <td>FINISHED</td>\n",
       "      <td>mlflow-artifacts:/1/11e3062b60574348ad33716682...</td>\n",
       "      <td>2024-03-24 19:54:13.664000+00:00</td>\n",
       "      <td>2024-03-24 19:54:23.257000+00:00</td>\n",
       "      <td>0.853043</td>\n",
       "      <td>0.850116</td>\n",
       "      <td>2346.0</td>\n",
       "      <td>0.637780</td>\n",
       "      <td>...</td>\n",
       "      <td>lbfgs</td>\n",
       "      <td>630</td>\n",
       "      <td>False</td>\n",
       "      <td>with_discretizer_hyperopt</td>\n",
       "      <td>[{\"run_id\": \"11e3062b60574348ad33716682e13ae2\"...</td>\n",
       "      <td>guhduarte</td>\n",
       "      <td>[{\"name\":\"2ebb0c36f4b380f19dac359abbc730ef\",\"h...</td>\n",
       "      <td>lr_discretizer_hyperopt</td>\n",
       "      <td>/home/guhduarte/.conda/envs/MLFlow_Loan/lib/py...</td>\n",
       "      <td>LOCAL</td>\n",
       "    </tr>\n",
       "    <tr>\n",
       "      <th>1</th>\n",
       "      <td>4d0cf33873d848ae8c0ee7ee654b472e</td>\n",
       "      <td>1</td>\n",
       "      <td>FINISHED</td>\n",
       "      <td>mlflow-artifacts:/1/4d0cf33873d848ae8c0ee7ee65...</td>\n",
       "      <td>2024-03-24 19:54:03.497000+00:00</td>\n",
       "      <td>2024-03-24 19:54:13.608000+00:00</td>\n",
       "      <td>0.853221</td>\n",
       "      <td>0.850117</td>\n",
       "      <td>2345.0</td>\n",
       "      <td>0.637640</td>\n",
       "      <td>...</td>\n",
       "      <td>lbfgs</td>\n",
       "      <td>777</td>\n",
       "      <td>False</td>\n",
       "      <td>with_discretizer_hyperopt</td>\n",
       "      <td>[{\"run_id\": \"4d0cf33873d848ae8c0ee7ee654b472e\"...</td>\n",
       "      <td>guhduarte</td>\n",
       "      <td>[{\"name\":\"2ebb0c36f4b380f19dac359abbc730ef\",\"h...</td>\n",
       "      <td>lr_discretizer_hyperopt</td>\n",
       "      <td>/home/guhduarte/.conda/envs/MLFlow_Loan/lib/py...</td>\n",
       "      <td>LOCAL</td>\n",
       "    </tr>\n",
       "    <tr>\n",
       "      <th>2</th>\n",
       "      <td>021043078a9a411187f01c12dd316f29</td>\n",
       "      <td>1</td>\n",
       "      <td>FINISHED</td>\n",
       "      <td>mlflow-artifacts:/1/021043078a9a411187f01c12dd...</td>\n",
       "      <td>2024-03-24 19:53:52.908000+00:00</td>\n",
       "      <td>2024-03-24 19:54:03.444000+00:00</td>\n",
       "      <td>0.851385</td>\n",
       "      <td>0.847558</td>\n",
       "      <td>2360.0</td>\n",
       "      <td>0.640328</td>\n",
       "      <td>...</td>\n",
       "      <td>lbfgs</td>\n",
       "      <td>818</td>\n",
       "      <td>False</td>\n",
       "      <td>with_discretizer_hyperopt</td>\n",
       "      <td>[{\"run_id\": \"021043078a9a411187f01c12dd316f29\"...</td>\n",
       "      <td>guhduarte</td>\n",
       "      <td>[{\"name\":\"2ebb0c36f4b380f19dac359abbc730ef\",\"h...</td>\n",
       "      <td>lr_discretizer_hyperopt</td>\n",
       "      <td>/home/guhduarte/.conda/envs/MLFlow_Loan/lib/py...</td>\n",
       "      <td>LOCAL</td>\n",
       "    </tr>\n",
       "    <tr>\n",
       "      <th>3</th>\n",
       "      <td>32a05e75ae9b4cb6bfc4d1db4f9f26a5</td>\n",
       "      <td>1</td>\n",
       "      <td>FINISHED</td>\n",
       "      <td>mlflow-artifacts:/1/32a05e75ae9b4cb6bfc4d1db4f...</td>\n",
       "      <td>2024-03-24 19:53:41.737000+00:00</td>\n",
       "      <td>2024-03-24 19:53:52.858000+00:00</td>\n",
       "      <td>0.838979</td>\n",
       "      <td>0.835011</td>\n",
       "      <td>2875.0</td>\n",
       "      <td>0.675392</td>\n",
       "      <td>...</td>\n",
       "      <td>newton-cg</td>\n",
       "      <td>531</td>\n",
       "      <td>False</td>\n",
       "      <td>with_discretizer_hyperopt</td>\n",
       "      <td>[{\"run_id\": \"32a05e75ae9b4cb6bfc4d1db4f9f26a5\"...</td>\n",
       "      <td>guhduarte</td>\n",
       "      <td>[{\"name\":\"2ebb0c36f4b380f19dac359abbc730ef\",\"h...</td>\n",
       "      <td>lr_discretizer_hyperopt</td>\n",
       "      <td>/home/guhduarte/.conda/envs/MLFlow_Loan/lib/py...</td>\n",
       "      <td>LOCAL</td>\n",
       "    </tr>\n",
       "    <tr>\n",
       "      <th>4</th>\n",
       "      <td>abfbce710d2949a8af6c7cb09c04e992</td>\n",
       "      <td>1</td>\n",
       "      <td>FINISHED</td>\n",
       "      <td>mlflow-artifacts:/1/abfbce710d2949a8af6c7cb09c...</td>\n",
       "      <td>2024-03-24 19:53:30.831000+00:00</td>\n",
       "      <td>2024-03-24 19:53:41.690000+00:00</td>\n",
       "      <td>0.798475</td>\n",
       "      <td>0.791855</td>\n",
       "      <td>132.0</td>\n",
       "      <td>0.204519</td>\n",
       "      <td>...</td>\n",
       "      <td>lbfgs</td>\n",
       "      <td>799</td>\n",
       "      <td>False</td>\n",
       "      <td>with_discretizer_hyperopt</td>\n",
       "      <td>[{\"run_id\": \"abfbce710d2949a8af6c7cb09c04e992\"...</td>\n",
       "      <td>guhduarte</td>\n",
       "      <td>[{\"name\":\"2ebb0c36f4b380f19dac359abbc730ef\",\"h...</td>\n",
       "      <td>lr_discretizer_hyperopt</td>\n",
       "      <td>/home/guhduarte/.conda/envs/MLFlow_Loan/lib/py...</td>\n",
       "      <td>LOCAL</td>\n",
       "    </tr>\n",
       "    <tr>\n",
       "      <th>...</th>\n",
       "      <td>...</td>\n",
       "      <td>...</td>\n",
       "      <td>...</td>\n",
       "      <td>...</td>\n",
       "      <td>...</td>\n",
       "      <td>...</td>\n",
       "      <td>...</td>\n",
       "      <td>...</td>\n",
       "      <td>...</td>\n",
       "      <td>...</td>\n",
       "      <td>...</td>\n",
       "      <td>...</td>\n",
       "      <td>...</td>\n",
       "      <td>...</td>\n",
       "      <td>...</td>\n",
       "      <td>...</td>\n",
       "      <td>...</td>\n",
       "      <td>...</td>\n",
       "      <td>...</td>\n",
       "      <td>...</td>\n",
       "      <td>...</td>\n",
       "    </tr>\n",
       "    <tr>\n",
       "      <th>97</th>\n",
       "      <td>8b7d4484b2514f149797aa09c475c385</td>\n",
       "      <td>1</td>\n",
       "      <td>FINISHED</td>\n",
       "      <td>mlflow-artifacts:/1/8b7d4484b2514f149797aa09c4...</td>\n",
       "      <td>2024-03-24 19:38:50.058000+00:00</td>\n",
       "      <td>2024-03-24 19:38:58.436000+00:00</td>\n",
       "      <td>0.799371</td>\n",
       "      <td>0.792985</td>\n",
       "      <td>111.0</td>\n",
       "      <td>0.204775</td>\n",
       "      <td>...</td>\n",
       "      <td>lbfgs</td>\n",
       "      <td>637</td>\n",
       "      <td>True</td>\n",
       "      <td>with_discretizer_hyperopt</td>\n",
       "      <td>[{\"run_id\": \"8b7d4484b2514f149797aa09c475c385\"...</td>\n",
       "      <td>guhduarte</td>\n",
       "      <td>[{\"name\":\"2ebb0c36f4b380f19dac359abbc730ef\",\"h...</td>\n",
       "      <td>lr_discretizer_hyperopt</td>\n",
       "      <td>/home/guhduarte/.conda/envs/MLFlow_Loan/lib/py...</td>\n",
       "      <td>LOCAL</td>\n",
       "    </tr>\n",
       "    <tr>\n",
       "      <th>98</th>\n",
       "      <td>0e8678dff9e14f70af4f697f10b8a70a</td>\n",
       "      <td>1</td>\n",
       "      <td>FINISHED</td>\n",
       "      <td>mlflow-artifacts:/1/0e8678dff9e14f70af4f697f10...</td>\n",
       "      <td>2024-03-24 19:38:40.859000+00:00</td>\n",
       "      <td>2024-03-24 19:38:50.017000+00:00</td>\n",
       "      <td>0.839000</td>\n",
       "      <td>0.834942</td>\n",
       "      <td>2875.0</td>\n",
       "      <td>0.675320</td>\n",
       "      <td>...</td>\n",
       "      <td>liblinear</td>\n",
       "      <td>267</td>\n",
       "      <td>False</td>\n",
       "      <td>with_discretizer_hyperopt</td>\n",
       "      <td>[{\"run_id\": \"0e8678dff9e14f70af4f697f10b8a70a\"...</td>\n",
       "      <td>guhduarte</td>\n",
       "      <td>[{\"name\":\"2ebb0c36f4b380f19dac359abbc730ef\",\"h...</td>\n",
       "      <td>lr_discretizer_hyperopt</td>\n",
       "      <td>/home/guhduarte/.conda/envs/MLFlow_Loan/lib/py...</td>\n",
       "      <td>LOCAL</td>\n",
       "    </tr>\n",
       "    <tr>\n",
       "      <th>99</th>\n",
       "      <td>f5292869c43346babd23b7ea1f6afd00</td>\n",
       "      <td>1</td>\n",
       "      <td>FINISHED</td>\n",
       "      <td>mlflow-artifacts:/1/f5292869c43346babd23b7ea1f...</td>\n",
       "      <td>2024-03-24 19:38:30.422000+00:00</td>\n",
       "      <td>2024-03-24 19:38:40.815000+00:00</td>\n",
       "      <td>0.798674</td>\n",
       "      <td>0.792134</td>\n",
       "      <td>126.0</td>\n",
       "      <td>0.204535</td>\n",
       "      <td>...</td>\n",
       "      <td>newton-cg</td>\n",
       "      <td>330</td>\n",
       "      <td>True</td>\n",
       "      <td>with_discretizer_hyperopt</td>\n",
       "      <td>[{\"run_id\": \"f5292869c43346babd23b7ea1f6afd00\"...</td>\n",
       "      <td>guhduarte</td>\n",
       "      <td>[{\"name\":\"2ebb0c36f4b380f19dac359abbc730ef\",\"h...</td>\n",
       "      <td>lr_discretizer_hyperopt</td>\n",
       "      <td>/home/guhduarte/.conda/envs/MLFlow_Loan/lib/py...</td>\n",
       "      <td>LOCAL</td>\n",
       "    </tr>\n",
       "    <tr>\n",
       "      <th>100</th>\n",
       "      <td>3e058eeb1ba145b3bf9eab7ccc11c0b8</td>\n",
       "      <td>1</td>\n",
       "      <td>FINISHED</td>\n",
       "      <td>mlflow-artifacts:/1/3e058eeb1ba145b3bf9eab7ccc...</td>\n",
       "      <td>2024-03-24 03:47:39.350000+00:00</td>\n",
       "      <td>2024-03-24 08:42:59.413000+00:00</td>\n",
       "      <td>0.798512</td>\n",
       "      <td>0.791916</td>\n",
       "      <td>132.0</td>\n",
       "      <td>0.204514</td>\n",
       "      <td>...</td>\n",
       "      <td>None</td>\n",
       "      <td>None</td>\n",
       "      <td>None</td>\n",
       "      <td>with_discretizer</td>\n",
       "      <td>[{\"run_id\": \"3e058eeb1ba145b3bf9eab7ccc11c0b8\"...</td>\n",
       "      <td>guhduarte</td>\n",
       "      <td>[{\"name\":\"2ebb0c36f4b380f19dac359abbc730ef\",\"h...</td>\n",
       "      <td>lr_discretizer</td>\n",
       "      <td>/home/guhduarte/.conda/envs/MLFlow_Loan/lib/py...</td>\n",
       "      <td>LOCAL</td>\n",
       "    </tr>\n",
       "    <tr>\n",
       "      <th>101</th>\n",
       "      <td>e87002be2cd7416f8ef7f5a389e8f5e3</td>\n",
       "      <td>1</td>\n",
       "      <td>FINISHED</td>\n",
       "      <td>mlflow-artifacts:/1/e87002be2cd7416f8ef7f5a389...</td>\n",
       "      <td>2024-03-24 03:40:41.671000+00:00</td>\n",
       "      <td>2024-03-24 03:40:47.806000+00:00</td>\n",
       "      <td>0.707635</td>\n",
       "      <td>0.692766</td>\n",
       "      <td>NaN</td>\n",
       "      <td>NaN</td>\n",
       "      <td>...</td>\n",
       "      <td>None</td>\n",
       "      <td>None</td>\n",
       "      <td>None</td>\n",
       "      <td>baseline</td>\n",
       "      <td>[{\"run_id\": \"e87002be2cd7416f8ef7f5a389e8f5e3\"...</td>\n",
       "      <td>guhduarte</td>\n",
       "      <td>None</td>\n",
       "      <td>lr_baseline</td>\n",
       "      <td>/home/guhduarte/.conda/envs/MLFlow_Loan/lib/py...</td>\n",
       "      <td>LOCAL</td>\n",
       "    </tr>\n",
       "  </tbody>\n",
       "</table>\n",
       "<p>102 rows × 39 columns</p>\n",
       "</div>"
      ],
      "text/plain": [
       "                               run_id experiment_id    status  \\\n",
       "0    11e3062b60574348ad33716682e13ae2             1  FINISHED   \n",
       "1    4d0cf33873d848ae8c0ee7ee654b472e             1  FINISHED   \n",
       "2    021043078a9a411187f01c12dd316f29             1  FINISHED   \n",
       "3    32a05e75ae9b4cb6bfc4d1db4f9f26a5             1  FINISHED   \n",
       "4    abfbce710d2949a8af6c7cb09c04e992             1  FINISHED   \n",
       "..                                ...           ...       ...   \n",
       "97   8b7d4484b2514f149797aa09c475c385             1  FINISHED   \n",
       "98   0e8678dff9e14f70af4f697f10b8a70a             1  FINISHED   \n",
       "99   f5292869c43346babd23b7ea1f6afd00             1  FINISHED   \n",
       "100  3e058eeb1ba145b3bf9eab7ccc11c0b8             1  FINISHED   \n",
       "101  e87002be2cd7416f8ef7f5a389e8f5e3             1  FINISHED   \n",
       "\n",
       "                                          artifact_uri  \\\n",
       "0    mlflow-artifacts:/1/11e3062b60574348ad33716682...   \n",
       "1    mlflow-artifacts:/1/4d0cf33873d848ae8c0ee7ee65...   \n",
       "2    mlflow-artifacts:/1/021043078a9a411187f01c12dd...   \n",
       "3    mlflow-artifacts:/1/32a05e75ae9b4cb6bfc4d1db4f...   \n",
       "4    mlflow-artifacts:/1/abfbce710d2949a8af6c7cb09c...   \n",
       "..                                                 ...   \n",
       "97   mlflow-artifacts:/1/8b7d4484b2514f149797aa09c4...   \n",
       "98   mlflow-artifacts:/1/0e8678dff9e14f70af4f697f10...   \n",
       "99   mlflow-artifacts:/1/f5292869c43346babd23b7ea1f...   \n",
       "100  mlflow-artifacts:/1/3e058eeb1ba145b3bf9eab7ccc...   \n",
       "101  mlflow-artifacts:/1/e87002be2cd7416f8ef7f5a389...   \n",
       "\n",
       "                          start_time                         end_time  \\\n",
       "0   2024-03-24 19:54:13.664000+00:00 2024-03-24 19:54:23.257000+00:00   \n",
       "1   2024-03-24 19:54:03.497000+00:00 2024-03-24 19:54:13.608000+00:00   \n",
       "2   2024-03-24 19:53:52.908000+00:00 2024-03-24 19:54:03.444000+00:00   \n",
       "3   2024-03-24 19:53:41.737000+00:00 2024-03-24 19:53:52.858000+00:00   \n",
       "4   2024-03-24 19:53:30.831000+00:00 2024-03-24 19:53:41.690000+00:00   \n",
       "..                               ...                              ...   \n",
       "97  2024-03-24 19:38:50.058000+00:00 2024-03-24 19:38:58.436000+00:00   \n",
       "98  2024-03-24 19:38:40.859000+00:00 2024-03-24 19:38:50.017000+00:00   \n",
       "99  2024-03-24 19:38:30.422000+00:00 2024-03-24 19:38:40.815000+00:00   \n",
       "100 2024-03-24 03:47:39.350000+00:00 2024-03-24 08:42:59.413000+00:00   \n",
       "101 2024-03-24 03:40:41.671000+00:00 2024-03-24 03:40:47.806000+00:00   \n",
       "\n",
       "     metrics.Val_roc_auc  metrics.CV_roc_auc  metrics.true_positives  \\\n",
       "0               0.853043            0.850116                  2346.0   \n",
       "1               0.853221            0.850117                  2345.0   \n",
       "2               0.851385            0.847558                  2360.0   \n",
       "3               0.838979            0.835011                  2875.0   \n",
       "4               0.798475            0.791855                   132.0   \n",
       "..                   ...                 ...                     ...   \n",
       "97              0.799371            0.792985                   111.0   \n",
       "98              0.839000            0.834942                  2875.0   \n",
       "99              0.798674            0.792134                   126.0   \n",
       "100             0.798512            0.791916                   132.0   \n",
       "101             0.707635            0.692766                     NaN   \n",
       "\n",
       "     metrics.log_loss  ...  params.solver  params.max_iter  params.warm_start  \\\n",
       "0            0.637780  ...          lbfgs              630              False   \n",
       "1            0.637640  ...          lbfgs              777              False   \n",
       "2            0.640328  ...          lbfgs              818              False   \n",
       "3            0.675392  ...      newton-cg              531              False   \n",
       "4            0.204519  ...          lbfgs              799              False   \n",
       "..                ...  ...            ...              ...                ...   \n",
       "97           0.204775  ...          lbfgs              637               True   \n",
       "98           0.675320  ...      liblinear              267              False   \n",
       "99           0.204535  ...      newton-cg              330               True   \n",
       "100          0.204514  ...           None             None               None   \n",
       "101               NaN  ...           None             None               None   \n",
       "\n",
       "           tags.mlflow.runName  \\\n",
       "0    with_discretizer_hyperopt   \n",
       "1    with_discretizer_hyperopt   \n",
       "2    with_discretizer_hyperopt   \n",
       "3    with_discretizer_hyperopt   \n",
       "4    with_discretizer_hyperopt   \n",
       "..                         ...   \n",
       "97   with_discretizer_hyperopt   \n",
       "98   with_discretizer_hyperopt   \n",
       "99   with_discretizer_hyperopt   \n",
       "100           with_discretizer   \n",
       "101                   baseline   \n",
       "\n",
       "                         tags.mlflow.log-model.history  tags.mlflow.user  \\\n",
       "0    [{\"run_id\": \"11e3062b60574348ad33716682e13ae2\"...         guhduarte   \n",
       "1    [{\"run_id\": \"4d0cf33873d848ae8c0ee7ee654b472e\"...         guhduarte   \n",
       "2    [{\"run_id\": \"021043078a9a411187f01c12dd316f29\"...         guhduarte   \n",
       "3    [{\"run_id\": \"32a05e75ae9b4cb6bfc4d1db4f9f26a5\"...         guhduarte   \n",
       "4    [{\"run_id\": \"abfbce710d2949a8af6c7cb09c04e992\"...         guhduarte   \n",
       "..                                                 ...               ...   \n",
       "97   [{\"run_id\": \"8b7d4484b2514f149797aa09c475c385\"...         guhduarte   \n",
       "98   [{\"run_id\": \"0e8678dff9e14f70af4f697f10b8a70a\"...         guhduarte   \n",
       "99   [{\"run_id\": \"f5292869c43346babd23b7ea1f6afd00\"...         guhduarte   \n",
       "100  [{\"run_id\": \"3e058eeb1ba145b3bf9eab7ccc11c0b8\"...         guhduarte   \n",
       "101  [{\"run_id\": \"e87002be2cd7416f8ef7f5a389e8f5e3\"...         guhduarte   \n",
       "\n",
       "                                  tags.mlflow.datasets  \\\n",
       "0    [{\"name\":\"2ebb0c36f4b380f19dac359abbc730ef\",\"h...   \n",
       "1    [{\"name\":\"2ebb0c36f4b380f19dac359abbc730ef\",\"h...   \n",
       "2    [{\"name\":\"2ebb0c36f4b380f19dac359abbc730ef\",\"h...   \n",
       "3    [{\"name\":\"2ebb0c36f4b380f19dac359abbc730ef\",\"h...   \n",
       "4    [{\"name\":\"2ebb0c36f4b380f19dac359abbc730ef\",\"h...   \n",
       "..                                                 ...   \n",
       "97   [{\"name\":\"2ebb0c36f4b380f19dac359abbc730ef\",\"h...   \n",
       "98   [{\"name\":\"2ebb0c36f4b380f19dac359abbc730ef\",\"h...   \n",
       "99   [{\"name\":\"2ebb0c36f4b380f19dac359abbc730ef\",\"h...   \n",
       "100  [{\"name\":\"2ebb0c36f4b380f19dac359abbc730ef\",\"h...   \n",
       "101                                               None   \n",
       "\n",
       "             tags.model_name  \\\n",
       "0    lr_discretizer_hyperopt   \n",
       "1    lr_discretizer_hyperopt   \n",
       "2    lr_discretizer_hyperopt   \n",
       "3    lr_discretizer_hyperopt   \n",
       "4    lr_discretizer_hyperopt   \n",
       "..                       ...   \n",
       "97   lr_discretizer_hyperopt   \n",
       "98   lr_discretizer_hyperopt   \n",
       "99   lr_discretizer_hyperopt   \n",
       "100           lr_discretizer   \n",
       "101              lr_baseline   \n",
       "\n",
       "                               tags.mlflow.source.name  \\\n",
       "0    /home/guhduarte/.conda/envs/MLFlow_Loan/lib/py...   \n",
       "1    /home/guhduarte/.conda/envs/MLFlow_Loan/lib/py...   \n",
       "2    /home/guhduarte/.conda/envs/MLFlow_Loan/lib/py...   \n",
       "3    /home/guhduarte/.conda/envs/MLFlow_Loan/lib/py...   \n",
       "4    /home/guhduarte/.conda/envs/MLFlow_Loan/lib/py...   \n",
       "..                                                 ...   \n",
       "97   /home/guhduarte/.conda/envs/MLFlow_Loan/lib/py...   \n",
       "98   /home/guhduarte/.conda/envs/MLFlow_Loan/lib/py...   \n",
       "99   /home/guhduarte/.conda/envs/MLFlow_Loan/lib/py...   \n",
       "100  /home/guhduarte/.conda/envs/MLFlow_Loan/lib/py...   \n",
       "101  /home/guhduarte/.conda/envs/MLFlow_Loan/lib/py...   \n",
       "\n",
       "     tags.mlflow.source.type  \n",
       "0                      LOCAL  \n",
       "1                      LOCAL  \n",
       "2                      LOCAL  \n",
       "3                      LOCAL  \n",
       "4                      LOCAL  \n",
       "..                       ...  \n",
       "97                     LOCAL  \n",
       "98                     LOCAL  \n",
       "99                     LOCAL  \n",
       "100                    LOCAL  \n",
       "101                    LOCAL  \n",
       "\n",
       "[102 rows x 39 columns]"
      ]
     },
     "execution_count": 23,
     "metadata": {},
     "output_type": "execute_result"
    }
   ],
   "source": [
    "# Obter tabela do MLFlow UI como Dataframe\n",
    "\n",
    "runs = mlflow.search_runs('1')\n",
    "\n",
    "runs"
   ]
  },
  {
   "cell_type": "code",
   "execution_count": 17,
   "metadata": {},
   "outputs": [
    {
     "data": {
      "text/plain": [
       "'1'"
      ]
     },
     "execution_count": 17,
     "metadata": {},
     "output_type": "execute_result"
    }
   ],
   "source": [
    "# Obter id do experimento pelo nome\n",
    "\n",
    "from mlflow.tracking import MlflowClient\n",
    "\n",
    "client = MlflowClient()\n",
    "\n",
    "exp_id = client.get_experiment_by_name(\"prob_loan_exp\").experiment_id\n",
    "\n",
    "exp_id"
   ]
  },
  {
   "cell_type": "code",
   "execution_count": null,
   "metadata": {},
   "outputs": [],
   "source": []
  },
  {
   "cell_type": "code",
   "execution_count": null,
   "metadata": {},
   "outputs": [],
   "source": []
  },
  {
   "cell_type": "code",
   "execution_count": null,
   "metadata": {},
   "outputs": [],
   "source": []
  },
  {
   "cell_type": "code",
   "execution_count": 77,
   "metadata": {},
   "outputs": [
    {
     "name": "stdout",
     "output_type": "stream",
     "text": [
      "              total        used        free      shared  buff/cache   available\n",
      "Mem:           12Gi       1.7Gi       9.7Gi       0.0Ki       993Mi        10Gi\n",
      "Swap:         4.0Gi          0B       4.0Gi\n"
     ]
    }
   ],
   "source": [
    "!free -h"
   ]
  }
 ],
 "metadata": {
  "kernelspec": {
   "display_name": "MLFlow_Loan",
   "language": "python",
   "name": "python3"
  },
  "language_info": {
   "codemirror_mode": {
    "name": "ipython",
    "version": 3
   },
   "file_extension": ".py",
   "mimetype": "text/x-python",
   "name": "python",
   "nbconvert_exporter": "python",
   "pygments_lexer": "ipython3",
   "version": "3.12.2"
  }
 },
 "nbformat": 4,
 "nbformat_minor": 2
}
